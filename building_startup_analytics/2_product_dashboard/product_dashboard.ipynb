{
 "cells": [
  {
   "cell_type": "markdown",
   "id": "d8e2045e",
   "metadata": {},
   "source": [
    "# Product Dashboard: Design & Implementation"
   ]
  },
  {
   "cell_type": "markdown",
   "id": "f5bd96a1",
   "metadata": {},
   "source": [
    "**Author:**  \n",
    "\n",
    "Pavel Grigoryev\n",
    "\n",
    "**Project Description:**\n",
    "\n",
    "With the analytical database in place, the next critical step is to provide the product and management teams with intuitive, self-service access to key metrics through a comprehensive dashboard.\n",
    "\n",
    "**Project Goal:**\n",
    "\n",
    "To design and implement an interactive product dashboard in Yandex DataLens that enables monitoring of user engagement, retention, and growth metrics across both messaging and news feed features.\n",
    "\n",
    "**Data Sources:**\n",
    "\n",
    "The dashboard connects to folloing materialized views\n",
    "- mv\\_app\\_daily\\_activity\n",
    "- mv\\_feed\\_daily\\_activity\n",
    "- mv\\_messenger\\_daily\\_activity\n",
    "\n",
    "**Project Resources:**  \n",
    "\n",
    "- [**Feed & Messenger Performance Dashboard**](https://datalens.yandex/w5blxgwqvb4uh)\n",
    "\n",
    "**Main Conclusion:**\n",
    "\n",
    "- **Dashboard Canvas Completed:** Defined business questions, key metrics, and target audience for the product dashboard\n",
    "- **Dashboard Layout Designed:** Created comprehensive dashboard mockup with visualization types and layout structure\n",
    "- **Yandex DataLens Dashboard Implemented:** Built and deployed interactive dashboard in Yandex DataLens\n",
    "- **Dashboard Documentation Written:** Created comprehensive documentation including filter definitions and metric explanations"
   ]
  },
  {
   "cell_type": "markdown",
   "id": "ed25daeb",
   "metadata": {},
   "source": [
    "# Data Description"
   ]
  },
  {
   "cell_type": "markdown",
   "id": "b54d9dc4",
   "metadata": {},
   "source": [
    "In the analytical database on ClickHouse, the following materialized views have been created for optimized dashboard performance"
   ]
  },
  {
   "cell_type": "markdown",
   "id": "b4d542c8",
   "metadata": {},
   "source": [
    "Materialized View `mv_app_daily_activity`\n",
    "\n",
    "Field | Description\n",
    "-|-\n",
    "date | Date of activity\n",
    "gender | User's gender\n",
    "age | User's age\n",
    "source | Traffic source\n",
    "os | User's operating system\n",
    "city | User's city\n",
    "country | User's country\n",
    "total_users | Total unique active users\n",
    "feed_only_users | Users who only used feed features\n",
    "messenger_only_users | Users who only used messenger features\n",
    "both_services_users | Users who used both feed and messenger\n",
    "messenger_users | Total users who used messenger\n",
    "new_users_lifetime_0 | New users (first activity)\n",
    "users_lifetime_7d | Users with 7+ days since first activity\n",
    "new_users_7_days_ago | New users from 7 days ago (for retention)\n",
    "views | Total post views\n",
    "likes | Total post likes"
   ]
  },
  {
   "cell_type": "markdown",
   "id": "1bf94422",
   "metadata": {},
   "source": [
    "Materialized View `mv_feed_daily_activity`\n",
    "\n",
    "Field | Description\n",
    "-|-\n",
    "date | Date of activity\n",
    "gender | User's gender\n",
    "age | User's age\n",
    "source | Traffic source\n",
    "os | User's operating system\n",
    "city | User's city\n",
    "country | User's country\n",
    "views | Total post views\n",
    "likes | Total post likes\n",
    "posts | Unique posts viewed\n",
    "avg_view_to_like_seconds | Average time from view to like (seconds)\n",
    "feed_users | Unique feed users\n",
    "feed_new_users_lifetime_0 | New feed users (first feed activity)\n",
    "feed_users_lifetime_7d | Feed users with 7+ days since first activity\n",
    "feed_new_users_7_days_ago | New feed users from 7 days ago"
   ]
  },
  {
   "cell_type": "markdown",
   "id": "4c868e75",
   "metadata": {},
   "source": [
    "Materialized View: `mv_messenger_daily_activity`\n",
    "\n",
    "Field | Description\n",
    "-|-\n",
    "date | Date of activity\n",
    "gender | User's gender\n",
    "age | User's age\n",
    "source | Traffic source\n",
    "os | User's operating system\n",
    "city | User's city\n",
    "country | User's country\n",
    "total_senders | Unique users who sent messages\n",
    "total_receivers | Unique users who received messages\n",
    "new_users_lifetime_0 | New messenger users (first message)\n",
    "users_lifetime_7d | Messenger users with 7+ days since first activity\n",
    "new_messenger_users_7_days_ago | New messenger users from 7 days ago\n",
    "messages_sent | Total messages sent\n",
    "avg_time_between_messages_sent | Average time between consecutive messages (seconds)"
   ]
  },
  {
   "cell_type": "markdown",
   "id": "667de122",
   "metadata": {},
   "source": [
    "# Dashboard Canvas"
   ]
  },
  {
   "cell_type": "markdown",
   "id": "3b85a1ad",
   "metadata": {},
   "source": [
    "Define dashboard canvas for the product dashboard."
   ]
  },
  {
   "cell_type": "markdown",
   "id": "db9e7b9b",
   "metadata": {},
   "source": [
    "1. Users and Context\n",
    "    - Who will use it and their roles?\n",
    "      - Product Manager\n",
    "        - Responsible for the overall product health metric\n",
    "      - Marketing Manager\n",
    "        - Evaluates the effectiveness of acquisition channels\n",
    "      - Data Analyst\n",
    "        - Performs deep data analysis\n",
    "    - How often will they use it?\n",
    "      - Regularly (daily/weekly)\n",
    "    - Under what conditions?\n",
    "      - During meetings to discuss strategy and make decisions\n",
    "      - PM will study the dashboard on their laptop to prepare for meetings or form hypotheses\n",
    "      - Urgent requests from management (e.g., checking if activity \"dropped\" after a release)\n",
    "    - On what devices?\n",
    "      - Primarily desktop (laptop/PC) and projector\n",
    "      - Mobile version has low priority\n",
    "    - How long will a single interaction take?\n",
    "      - From 5 to 30 minutes\n",
    "      - A quick glance to check metrics and longer immersion to analyze reasons for changes and find insights\n",
    "2. Understanding the Task\n",
    "    - Main dashboard goal\n",
    "      - To create a single point for monitoring and analyzing interactions between the two key services (news feed and messenger).\n",
    "    - Dashboard type\n",
    "      - Overview\n",
    "    - Why the task is important\n",
    "      - The company lacks a single source of truth. Different departments (management, marketing, product) have different, often conflicting, views on what is happening with the business.\n",
    "      - Without a dashboard, it is difficult to answer the main questions: What is happening? and Why?\n",
    "    - Why the task is important?\n",
    "      - Will help identify and strengthen the intersection points between services that retain users.\n",
    "      - Will reduce time spent gathering data from various sources before each meeting.\n",
    "      - A single entry point will reduce the time needed to access and share information within the team.\n",
    "      - Visualization of key metrics will improve the quality of decision-making.\n",
    "    - How will we know the goal has been achieved?\n",
    "      - Users reference dashboard data during daily meetings.\n",
    "      - Time spent preparing for planning meetings is reduced (e.g., from 2 hours to 15 minutes).\n",
    "      - The number of hypotheses generated has increased.\n",
    "3. Metrics, Dimensions, and Data Sources\n",
    "    - Metrics\n",
    "      - Total number of users\n",
    "      - Number of users who used only the feed\n",
    "      - Number of users who used only the messenger\n",
    "      - Number of users who used both services\n",
    "      - Number of new users\n",
    "      - Day 7 cohort retention\n",
    "      - CTR\n",
    "      - Average number of messages per user\n",
    "      - Unique number of posts\n",
    "      - Total number of views\n",
    "      - Total number of likes\n",
    "      - Average number of likes per post\n",
    "      - Average number of posts per user\n",
    "      - Average number of views per user\n",
    "      - Average number of likes per user\n",
    "      - Average time between like and view of the same post\n",
    "      - Total number of message senders\n",
    "      - Total number of message receivers\n",
    "      - Ratio of message receivers to message senders\n",
    "      - Total number of messages sent\n",
    "      - Average time between messages sent by a single user\n",
    "    - Dimensions\n",
    "      - Time\n",
    "      - Gender\n",
    "      - Age Group\n",
    "      - Country\n",
    "      - City\n",
    "      - Os\n",
    "      - Source\n",
    "    - Sources\n",
    "        - materialized view mv_app_daily_activity\n",
    "        - materialized view mv_feed_daily_activity\n",
    "        - materialized view mv_messenger_daily_activity\n",
    "4. Questions and Business Decisions\n",
    "    - What are the values of the metrics (listed above) for the last day and what is the trend over the last month?\n",
    "    - How have the metrics changed compared to the previous week?\n",
    "    - How does the metric trend this month differ from the same trend last month?\n",
    "    - In which cities/countries, which age groups, from which devices are the users who use the app in general and each service separately?\n",
    "    - Which channel brings more users who only use the feed / only use the messenger / use both services?\n",
    "    - What is the number of users by traffic source and OS (heatmap)?\n",
    "    - Which traffic source brings users who stay in the app longer?\n",
    "    - In which age groups are the average metrics per user higher?\n",
    "    - How do the conducted advertising campaigns reflect on the dynamics of the metrics?\n",
    "5. Visualization for Questions and Business Decisions\n",
    "    - App Overview Tab\n",
    "      - KPI cards with values for the last completed day and WoW change with color indicators for the following metrics:\n",
    "        - Total Users\n",
    "        - Feed Only Users\n",
    "        - Messenger Only Users\n",
    "        - Both Services Users\n",
    "        - New Users\n",
    "        - Retention 7D\n",
    "        - CTR\n",
    "        - Messages per User\n",
    "      - Under each KPI card: WoW comparison and monthly trends (sparkline)\n",
    "      - Table with all these metrics broken down by Gender, Age Group, Os, Source, Country, City\n",
    "    - Feed Deep Dive Tab\n",
    "      - KPI cards with values for the last completed day and WoW change with color indicators for the following metrics:\n",
    "        - Total Users\n",
    "        - New Users\n",
    "        - Retention 7D\n",
    "        - CTR\n",
    "        - Unique Posts\n",
    "        - Total Views\n",
    "        - Total Likes\n",
    "        - Likes per Post\n",
    "        - Posts per User\n",
    "        - Views per User\n",
    "        - Likes per User\n",
    "        - Avg View-to-Like Time\n",
    "      - Under each KPI card: WoW comparison and monthly trends (sparkline)\n",
    "      - Table with all these metrics broken down by Gender, Age Group, Os, Source, Country, City\n",
    "    - Messenger Deep Dive Tab\n",
    "      - KPI cards with values for the last completed day and WoW change with color indicators for the following metrics:\n",
    "        - Total Senders\n",
    "        - Total Receivers\n",
    "        - New Users\n",
    "        - Retention 7D\n",
    "        - Receiver/Sender Ratio\n",
    "        - Messages Sent\n",
    "        - Avg Messages per Sender\n",
    "        - Avg Time Between Messages\n",
    "      - Under each KPI card: WoW comparison and monthly trends (sparkline)\n",
    "      - Table with all these metrics broken down by Gender, Age Group, Os, Source, Country, City"
   ]
  },
  {
   "cell_type": "markdown",
   "id": "a86c0c0d",
   "metadata": {},
   "source": [
    "# Dashboard Mock-up"
   ]
  },
  {
   "cell_type": "markdown",
   "id": "c55e773e",
   "metadata": {},
   "source": [
    "Create dashboard mock-up for the product dashboard."
   ]
  },
  {
   "cell_type": "markdown",
   "id": "084e2651",
   "metadata": {},
   "source": [
    "**App Overview Tab**"
   ]
  },
  {
   "cell_type": "markdown",
   "id": "9fb48dc9",
   "metadata": {},
   "source": [
    "<img src=\"app_overview_mockup.png\" alt=\"\">"
   ]
  },
  {
   "cell_type": "markdown",
   "id": "1b8d41c4",
   "metadata": {},
   "source": [
    "**Feed Deep Dive Tab**"
   ]
  },
  {
   "cell_type": "markdown",
   "id": "411688c1",
   "metadata": {},
   "source": [
    "<img src=\"feed_deep_dive_mockup.png\" alt=\"\">"
   ]
  },
  {
   "cell_type": "markdown",
   "id": "171fcc87",
   "metadata": {},
   "source": [
    "**Messenger Deep Dive Tab**"
   ]
  },
  {
   "cell_type": "markdown",
   "id": "9cca82b7",
   "metadata": {},
   "source": [
    "<img src=\"messenger_deep_dive_mockup.png\" alt=\"\">"
   ]
  },
  {
   "cell_type": "markdown",
   "id": "1f71affc",
   "metadata": {},
   "source": [
    "# Dashboard Documentation"
   ]
  },
  {
   "cell_type": "markdown",
   "id": "f31981bf",
   "metadata": {},
   "source": [
    "Create dashboard documentation for the product dashboard. This documentation will be placed on a separate tab within the dashboard itself for easy user reference."
   ]
  },
  {
   "cell_type": "markdown",
   "id": "7a2b9a09",
   "metadata": {},
   "source": [
    "## ℹ️ General Information\n",
    "\n",
    "The Feed & Messenger Performance Dashboard provides comprehensive insights into user engagement, content performance, and messaging activity within our social application. This tool enables data-driven decision making for product development and user growth strategies.\n",
    "\n",
    "**Dashboard Owner:** Pavel Grigoryev\n",
    "\n",
    "**Data Coverage:** Last 2 Months\n",
    "\n",
    "**Reporting Period:**\n",
    "\n",
    "- **KPI Cards (Factoids):** Show values for the last complete 24-hour period (previous full day)\n",
    "- **Sparklines:** Display trends comparing the current month vs previous month\n",
    "- **Breakdown Tables:** Use data from the last complete 24-hour period (previous full day)\n",
    "\n",
    "This approach ensures consistent daily performance tracking while providing monthly trend context.\n",
    "\n",
    "**Abbreviations:**\n",
    "\n",
    "\n",
    "|Abbreviation|Full Name|\n",
    "|:---|:---|\n",
    "|**WoW**|Week-over-Week|\n",
    "|**CTR**|Click-Through Rate|\n",
    "|**DAU**|Daily Active Users|\n",
    "|**Retention 7D**|Retention 7 Days|\n",
    "|**DAU / WAU**|Daily Active Users / Weekly Active Users|\n",
    "\n",
    "---\n",
    "\n",
    "## 📈 Tab Overview\n",
    "\n",
    "### 📱 App Overview Tab\n",
    "\n",
    "**Key Metrics:**\n",
    "\n",
    "- **Total Users** - Count of unique users who performed any action in the application\n",
    "- **Feed Only Users** - Users who only interacted with the feed (viewed or liked posts)\n",
    "- **Messenger Only Users** - Users who only used the messaging feature\n",
    "- **Both Services Users** - Users who interacted with both feed and messenger\n",
    "- **New Users** - Users who registered and first used the application\n",
    "- **Retention 7D** - Percentage of users from a cohort who were active on the 7th day after their first activity\n",
    "- **CTR** - Click-through rate: ratio of likes to views in the feed\n",
    "- **Messages per User** - Average number of messages sent per active user\n",
    "\n",
    "*All metrics include WoW comparison and monthly trends (sparkline).*\n",
    "\n",
    "### 📰 Feed Deep Dive Tab\n",
    "\n",
    "**Key Metrics:**\n",
    "\n",
    "- **Total Users** - Count of unique users who performed any action in the application\n",
    "- **New Users** - Users who registered and first used the feed\n",
    "- **Retention 7D** - Percentage of users from a cohort who were active on the 7th day after their first activity\n",
    "- **CTR** - Like-to-view ratio\n",
    "- **Unique Posts** - Number of distinct posts viewed\n",
    "- **Total Views** - Overall post impression count\n",
    "- **Total Likes** - Number of likes received\n",
    "- **Likes per Post** - Ratio of likes to posts, measuring content quality and engagement\n",
    "- **Posts per User** - Average unique posts viewed per user\n",
    "- **Views per User** - Average views per user\n",
    "- **Likes per User** - Average likes per user\n",
    "- **Avg View-to-Like Time** - Average time from view to like action\n",
    "\n",
    "*All metrics include WoW comparison and monthly trends (sparkline).*\n",
    "\n",
    "### 💬 Messenger Deep Dive Tab\n",
    "\n",
    "**Key Metrics:**\n",
    "\n",
    "- **Total Senders** - Number of unique users who sent messages\n",
    "- **Total Receivers** - Number of unique users who received messages\n",
    "- **New Users** - Users who registered and first used the messenger\n",
    "- **Retention 7D** - Percentage of users from a cohort who were active on the 7th day after their first activity\n",
    "- **Receiver/Sender Ratio** - Ratio of message receivers to senders, measuring audience reach and network effect\n",
    "- **Messages Sent** - Total number of messages sent in the platform\n",
    "- **Avg Messages per Sender** - Average number of messages sent per active sender\n",
    "- **Avg Time Between Messages** - Average time interval between consecutive messages from the same user\n",
    "\n",
    "*All metrics include WoW comparison and monthly trends (sparkline).*\n",
    "\n",
    "---\n",
    "\n",
    "## 🔓 Access Information\n",
    "\n",
    "**Access Level:** Available to all\n",
    "\n",
    "---\n",
    "\n",
    "## 🗃️ Data Sources & Technical Details\n",
    "\n",
    "**Data Sources:**\n",
    "\n",
    "- Data is sourced from the analytical database.\n",
    "- The dashboard connects to folloing materialized views\n",
    "  - mv\\_app\\_daily\\_activity\n",
    "  - mv\\_feed\\_daily\\_activity\n",
    "  - mv\\_messenger\\_daily\\_activity\n",
    "\n",
    "**Calculation Methodology:**\n",
    "\n",
    "- WoW (Week-over-Week) Growth: Calculated as (Metric Value for Current Period / Metric Value for Previous Week) - 1\n",
    "- Retention 7D: Percentage of users from a cohort who were active on the 7th day after their first activity\n",
    "- CTR: Calculated as (Total Likes / Total Views) for feed content\n",
    "\n",
    "---\n",
    "\n",
    "## ❓ Frequently Asked Questions\n",
    "\n",
    "#### What does WoW mean and how is it calculated?\n",
    "\n",
    "WoW stands for Week-over-Week.\n",
    "\n",
    "- It compares the current period (usually yesterday) to the same day in the previous week\n",
    "- This helps identify weekly trends and seasonality effects\n",
    "\n",
    "It is calculated as:\n",
    "(Metric Value for Current Period / Metric Value for Same Day Previous Week) - 1\n",
    "\n",
    "#### How is Retention 7D defined?\n",
    "\n",
    "Retention 7D measures the percentage of users from a specific cohort (e.g., users who joined on a specific day) who returned and were active exactly on the 7th day after their first activity. This is a classic retention metric that shows the ability to retain users one week after their initial engagement.\n",
    "\n",
    "#### What is shown on the sparkline charts?\n",
    "\n",
    "The sparklines provide a 30-day visual history of each metric's performance, allowing quick identification of trends, spikes, or drops in user engagement and platform performance."
   ]
  },
  {
   "cell_type": "markdown",
   "id": "95330e6a",
   "metadata": {
    "vscode": {
     "languageId": "plaintext"
    }
   },
   "source": [
    "# Dashboard Implementation"
   ]
  },
  {
   "cell_type": "markdown",
   "id": "c491cc83",
   "metadata": {
    "vscode": {
     "languageId": "raw"
    }
   },
   "source": [
    "Based on the dashboard mockup, a dashboard was created using the BI tool Yandex DataLens."
   ]
  },
  {
   "cell_type": "markdown",
   "id": "7fa70083",
   "metadata": {},
   "source": [
    "The dashboard is available at the following link: [**Feed & Messenger Performance Dashboard**](https://datalens.yandex/w5blxgwqvb4uh)"
   ]
  },
  {
   "cell_type": "markdown",
   "id": "765a10ae",
   "metadata": {
    "vscode": {
     "languageId": "raw"
    }
   },
   "source": [
    "Screenshots of the dashboard are provided below."
   ]
  },
  {
   "cell_type": "markdown",
   "id": "472552c7",
   "metadata": {
    "vscode": {
     "languageId": "raw"
    }
   },
   "source": [
    "## 📱 App Overview Tab"
   ]
  },
  {
   "cell_type": "markdown",
   "id": "706fe654",
   "metadata": {
    "vscode": {
     "languageId": "raw"
    }
   },
   "source": [
    "<img src=\"app_overview_tab_part_1.png\" alt=\"\">"
   ]
  },
  {
   "cell_type": "markdown",
   "id": "95994193",
   "metadata": {
    "vscode": {
     "languageId": "raw"
    }
   },
   "source": [
    "<img src=\"app_overview_tab_part_2.png\" alt=\"\">"
   ]
  },
  {
   "cell_type": "markdown",
   "id": "a1c0367a",
   "metadata": {
    "vscode": {
     "languageId": "raw"
    }
   },
   "source": [
    "## 📰 Feed Deep Dive Tab"
   ]
  },
  {
   "cell_type": "markdown",
   "id": "f63a6bc5",
   "metadata": {
    "vscode": {
     "languageId": "raw"
    }
   },
   "source": [
    "<img src=\"feed_deep_dive_tab_part_1.png\" alt=\"\">"
   ]
  },
  {
   "cell_type": "markdown",
   "id": "8e5faf4f",
   "metadata": {
    "vscode": {
     "languageId": "raw"
    }
   },
   "source": [
    "<img src=\"feed_deep_dive_tab_part_2.png\" alt=\"\">"
   ]
  },
  {
   "cell_type": "markdown",
   "id": "6668610f",
   "metadata": {
    "vscode": {
     "languageId": "raw"
    }
   },
   "source": [
    "## 💬 Messenger Deep Dive Tab"
   ]
  },
  {
   "cell_type": "markdown",
   "id": "c1695e1f",
   "metadata": {
    "vscode": {
     "languageId": "raw"
    }
   },
   "source": [
    "<img src=\"messenger_deep_dive_tab_part_1.png\" alt=\"\">"
   ]
  },
  {
   "cell_type": "markdown",
   "id": "8f675f77",
   "metadata": {
    "vscode": {
     "languageId": "raw"
    }
   },
   "source": [
    "<img src=\"messenger_deep_dive_tab_part_2.png\" alt=\"\">"
   ]
  },
  {
   "cell_type": "markdown",
   "id": "453db285",
   "metadata": {
    "vscode": {
     "languageId": "raw"
    }
   },
   "source": [
    "## 📖 Documentation"
   ]
  },
  {
   "cell_type": "markdown",
   "id": "8339f6f8",
   "metadata": {
    "vscode": {
     "languageId": "raw"
    }
   },
   "source": [
    "<img src=\"documentation_part_1.png\" alt=\"\">"
   ]
  },
  {
   "cell_type": "markdown",
   "id": "3ddac81a",
   "metadata": {
    "vscode": {
     "languageId": "raw"
    }
   },
   "source": [
    "<img src=\"documentation_part_2.png\" alt=\"\">"
   ]
  },
  {
   "cell_type": "markdown",
   "id": "57603a49",
   "metadata": {
    "vscode": {
     "languageId": "raw"
    }
   },
   "source": [
    "<img src=\"documentation_part_3.png\" alt=\"\">"
   ]
  },
  {
   "cell_type": "markdown",
   "id": "f76f9810",
   "metadata": {},
   "source": [
    "# General Conclusion"
   ]
  },
  {
   "cell_type": "markdown",
   "id": "ef0fea41",
   "metadata": {},
   "source": [
    "- **Dashboard Canvas Completed:** Defined business questions, key metrics, and target audience for the product dashboard\n",
    "- **Dashboard Layout Designed:** Created comprehensive dashboard mockup with visualization types and layout structure\n",
    "- **Yandex DataLens Dashboard Implemented:** Built and deployed interactive dashboard in Yandex DataLens\n",
    "- **Dashboard Documentation Written:** Created comprehensive documentation including filter definitions and metric explanations"
   ]
  }
 ],
 "metadata": {
  "kernelspec": {
   "display_name": "pagri-projects-py3.11",
   "language": "python",
   "name": "python3"
  },
  "language_info": {
   "codemirror_mode": {
    "name": "ipython",
    "version": 3
   },
   "file_extension": ".py",
   "mimetype": "text/x-python",
   "name": "python",
   "nbconvert_exporter": "python",
   "pygments_lexer": "ipython3",
   "version": "3.11.11"
  }
 },
 "nbformat": 4,
 "nbformat_minor": 5
}
