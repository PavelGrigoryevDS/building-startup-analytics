{
 "cells": [
  {
   "cell_type": "markdown",
   "id": "ff09cd83",
   "metadata": {},
   "source": [
    "# 3. Product Metric Deep Dive"
   ]
  },
  {
   "cell_type": "markdown",
   "id": "7df687d9",
   "metadata": {
    "vscode": {
     "languageId": "plaintext"
    }
   },
   "source": [
    "**Context:**\n",
    "\n",
    "- Over the past several days, our startup experienced two significant events that impacted user metrics. \n",
    "- First, marketing launched a major advertising campaign that brought a substantial number of new users to the application. \n",
    "- Second, we observed a sharp, unexpected drop in active audience on a specific day, requiring immediate investigation.\n",
    "\n",
    "**Objectives:**\n",
    "\n",
    "To conduct a deep dive analysis addressing three critical business questions:\n",
    "1. Analyze retention patterns of users acquired through the advertising campaign to understand their long-term engagement and value\n",
    "2. Investigate the sudden audience drop by identifying users who experienced issues with the news feed and determining common characteristics among them\n",
    "3. Build weekly audience segmentation to track user lifecycle and identify trends in new, retained, and churned users\n",
    "   \n",
    "**Data Sources:**\n",
    "\n",
    "- `feed_actions` - News feed activity\n",
    "- `message_actions` - Messaging activity \n",
    "\n",
    "**Key Achievements:**\n",
    "\n",
    "- **Retention Analysis Completed:** \n",
    "  - Conducted comprehensive cohort analysis of advertising campaign users versus organic users\n",
    "- **User Segmentation Identified:** \n",
    "  - Segmented and analyzed users who experienced news feed access issues\n",
    "- **Root Cause Investigation:** \n",
    "  - Identified common characteristics and potential technical factors behind the audience drop\n",
    "- **User Lifecycle Tracking Implemented:** \n",
    "  - Built ClickHouse query and Superset visualization for monitoring New, Retained, and Churned user cohorts\n",
    "- **Data Products Delivered:** \n",
    "  - Created Superset dashboards for ongoing monitoring of retention patterns and user engagement issues\n",
    "- **Goal Achieved:** \n",
    "  - Provided data-driven insights that enabled marketing to optimize campaign strategies and engineering to address critical technical issues\n",
    "  \n",
    "**Key Findings:**\n",
    "\n",
    "- Advertising Campaign Analysis\n",
    "  - Campaign successfully attracted large volume of new users, significantly exceeding previous acquisition rates\n",
    "  - Initial engagement metrics showed no significant difference from organic users\n",
    "  - Critical Issue: Day-1 retention rate for campaign users was substantially lower than historical Friday cohorts\n",
    "\n",
    "- Audience Drop Investigation\n",
    "  - Significant drop in feed engagement occurred on August 24th\n",
    "  - Affected Areas: Moscow, St. Petersburg, Yekaterinburg, Novosibirsk showed concentrated impact\n",
    "  - Isolated Issue: Messenger functionality remained unaffected in these cities\n",
    "  \n",
    "**Key Recommendation:**  \n",
    "\n",
    "- Implement more targeted advertising based on analysis of existing active user profiles rather than broad audience targeting\n",
    "- Investigate technical infrastructure in affected regions and implement redundancy measures to prevent future service disruptions\n",
    "\n",
    "**Business Impact:**\n",
    "\n",
    "- Provided actionable insights to optimize user acquisition strategies and improve product experience based on actual user behavior patterns."
   ]
  },
  {
   "cell_type": "markdown",
   "id": "6a5a5f57",
   "metadata": {},
   "source": [
    "## 3.1 Data Description"
   ]
  },
  {
   "cell_type": "markdown",
   "id": "1326005c",
   "metadata": {},
   "source": [
    "In the product database on ClickHouse, the data is stored in the following tables"
   ]
  },
  {
   "cell_type": "markdown",
   "id": "e3e5f63b",
   "metadata": {},
   "source": [
    "Table feed_actions\n",
    "\n",
    "Field | Description\n",
    "-|-\n",
    "user_id | User ID\n",
    "post_id | Post ID\n",
    "action | Action: view or like\n",
    "time | Timestamp\n",
    "gender | User's gender\n",
    "age | User's age (1 = Male)\n",
    "os | User's OS\n",
    "source | Traffic source\n",
    "country | User's country\n",
    "city | User's city\n",
    "exp_group | A/B test group"
   ]
  },
  {
   "cell_type": "markdown",
   "id": "b961646e",
   "metadata": {},
   "source": [
    "Table message_actions\n",
    "\n",
    "Field | Description\n",
    "-|-\n",
    "user_id | Sender's ID\n",
    "receiver_id | Receiver's ID\n",
    "time | Send timestamp\n",
    "gender | Sender's gender\n",
    "age | Sender's age (1 = Male)\n",
    "os | Sender's OS\n",
    "source | Sender's traffic source\n",
    "country | Sender's country\n",
    "city | Sender's city\n",
    "exp_group | Sender's A/B test group"
   ]
  },
  {
   "cell_type": "markdown",
   "id": "706d47b9",
   "metadata": {
    "vscode": {
     "languageId": "plaintext"
    }
   },
   "source": [
    "## 3.2 Marketing Campaign Analysis"
   ]
  },
  {
   "cell_type": "markdown",
   "id": "e1a1fe62",
   "metadata": {
    "vscode": {
     "languageId": "sql"
    }
   },
   "source": [
    "### 3.2.1 SQL Queries"
   ]
  },
  {
   "cell_type": "markdown",
   "id": "1796881e",
   "metadata": {
    "vscode": {
     "languageId": "sql"
    }
   },
   "source": [
    "We will write SQL queries to the product database to build the charts."
   ]
  },
  {
   "cell_type": "markdown",
   "id": "8a640c70",
   "metadata": {
    "vscode": {
     "languageId": "sql"
    }
   },
   "source": [
    "#### 3.2.1.1 Hypothesis Validation"
   ]
  },
  {
   "cell_type": "markdown",
   "id": "a5ddeb22",
   "metadata": {
    "vscode": {
     "languageId": "plaintext"
    }
   },
   "source": [
    "**Any Service New Users By Source**"
   ]
  },
  {
   "cell_type": "code",
   "execution_count": null,
   "id": "14e7d070",
   "metadata": {
    "vscode": {
     "languageId": "sql"
    }
   },
   "outputs": [],
   "source": [
    "SELECT \n",
    "  user_id \n",
    "  , toDate(min(time)) as first_date\n",
    "  , any(source) as source\n",
    "  , 'New in Feed' as service \n",
    "FROM \n",
    "  feed_actions\n",
    "GROUP BY \n",
    "  user_id \n",
    "UNION ALL\n",
    "SELECT \n",
    "  user_id \n",
    "  , toDate(min(time)) as first_date\n",
    "  , any(source) as source\n",
    "  , 'New in Messenger' as service\n",
    "FROM \n",
    "  message_actions\n",
    "GROUP BY \n",
    "  user_id"
   ]
  },
  {
   "cell_type": "markdown",
   "id": "0e5217f2",
   "metadata": {
    "vscode": {
     "languageId": "plaintext"
    }
   },
   "source": [
    "**Feed New Users By Source**"
   ]
  },
  {
   "cell_type": "code",
   "execution_count": null,
   "id": "611f2ec1",
   "metadata": {
    "vscode": {
     "languageId": "sql"
    }
   },
   "outputs": [],
   "source": [
    "SELECT \n",
    "  user_id \n",
    "  , toDate(min(time)) as first_date\n",
    "  , any(source) as source\n",
    "  , 'New in Feed' as service \n",
    "FROM \n",
    "  feed_actions\n",
    "GROUP BY \n",
    "  user_id \n",
    "UNION ALL\n",
    "SELECT \n",
    "  user_id \n",
    "  , toDate(min(time)) as first_date\n",
    "  , any(source) as source\n",
    "  , 'New in Messenger' as service\n",
    "FROM \n",
    "  message_actions\n",
    "GROUP BY \n",
    "  user_id"
   ]
  },
  {
   "cell_type": "markdown",
   "id": "1d7a2a44",
   "metadata": {
    "vscode": {
     "languageId": "plaintext"
    }
   },
   "source": [
    "**Messenger New Users By Source**"
   ]
  },
  {
   "cell_type": "code",
   "execution_count": null,
   "id": "a643bf85",
   "metadata": {
    "vscode": {
     "languageId": "sql"
    }
   },
   "outputs": [],
   "source": [
    "SELECT \n",
    "  user_id \n",
    "  , toDate(min(time)) as first_date\n",
    "  , any(source) as source\n",
    "  , 'New in Feed' as service \n",
    "FROM \n",
    "  feed_actions\n",
    "GROUP BY \n",
    "  user_id \n",
    "UNION ALL\n",
    "SELECT \n",
    "  user_id \n",
    "  , toDate(min(time)) as first_date\n",
    "  , any(source) as source\n",
    "  , 'New in Messenger' as service\n",
    "FROM \n",
    "  message_actions\n",
    "GROUP BY \n",
    "  user_id"
   ]
  },
  {
   "cell_type": "markdown",
   "id": "194be688",
   "metadata": {
    "vscode": {
     "languageId": "sql"
    }
   },
   "source": [
    "#### 3.2.1.2 Profile of Advertising Campaign Users"
   ]
  },
  {
   "cell_type": "code",
   "execution_count": null,
   "id": "d4da3b79",
   "metadata": {
    "vscode": {
     "languageId": "sql"
    }
   },
   "outputs": [],
   "source": [
    "SELECT \n",
    "  user_id \n",
    "  , post_id\n",
    "  , action\n",
    "  , os as os\n",
    "  , age as age\n",
    "  , multiIf(gender = 1, 'female', gender = 0, 'male', 'unknown') as gender  \n",
    "  , multiIf(f.gender = 0, 'female', f.gender = 1, 'male', 'unknown') as dummy_gender  \n",
    "  , multiIf(\n",
    "      age < 25, ' <25'\n",
    "      , age between 25 and 40, '25-40' \n",
    "      , age between 41 and 55, '41-55'\n",
    "      , age >= 55, '55+'\n",
    "      , 'unknown'\n",
    "  ) as age_group  \n",
    "  , country as country\n",
    "  , city as city\n",
    "FROM \n",
    "  feed_actions f\n",
    "WHERE \n",
    "  toDate(time) = '2025-08-15'\n",
    "  and source = 'ads'"
   ]
  },
  {
   "cell_type": "markdown",
   "id": "982c4187",
   "metadata": {
    "vscode": {
     "languageId": "sql"
    }
   },
   "source": [
    "#### 3.2.1.3 Metrics on the First Day"
   ]
  },
  {
   "cell_type": "markdown",
   "id": "37ac8f93",
   "metadata": {
    "vscode": {
     "languageId": "sql"
    }
   },
   "source": [
    "**Metrics Compare With Previous Days**"
   ]
  },
  {
   "cell_type": "code",
   "execution_count": null,
   "id": "c3ce872d",
   "metadata": {
    "vscode": {
     "languageId": "sql"
    }
   },
   "outputs": [],
   "source": [
    "WITH feed as (\n",
    "  SELECT \n",
    "    user_id\n",
    "    , toDate(time) as date\n",
    "    , post_id\n",
    "    , action\n",
    "  FROM \n",
    "    feed_actions\n",
    "  WHERE \n",
    "    date <= '2025-08-15'\n",
    "    and source = 'ads'\n",
    "    and toDayOfWeek(date) = 5    \n",
    ")\n",
    ", first_activity AS (\n",
    "    SELECT \n",
    "        user_id, \n",
    "        min(toDate(time)) as first_date\n",
    "    FROM feed_actions\n",
    "    WHERE source = 'ads'\n",
    "      AND toDate(time) <= '2025-08-15'\n",
    "    GROUP BY user_id \n",
    "),\n",
    "daily_metrics AS (\n",
    "    SELECT \n",
    "        fa.first_date as date,\n",
    "        fa.first_date = '2025-08-15' as is_target_day,\n",
    "        uniq(f.user_id) as users,\n",
    "        uniq(f.post_id) as posts,\n",
    "        countIf(f.action = 'view') as views,\n",
    "        countIf(f.action = 'like') as likes,\n",
    "        likes / nullIf(views, 0) as ctr,\n",
    "        posts / users as posts_per_user,\n",
    "        views / users as views_per_user,\n",
    "        likes / users as likes_per_user\n",
    "    FROM\n",
    "      feed f\n",
    "    INNER JOIN first_activity fa ON f.user_id = fa.user_id \n",
    "                                AND f.date = fa.first_date\n",
    "    GROUP BY fa.first_date\n",
    ")\n",
    "SELECT \n",
    "    if(is_target_day, 'Target Day', 'Previous Fridays') as period,\n",
    "    count() as days_count,\n",
    "    median(users) as users,\n",
    "    median(posts) as posts,\n",
    "    median(views) as views,\n",
    "    median(likes) as likes,\n",
    "    median(ctr) as ctr,\n",
    "    median(posts_per_user) as posts_per_user,\n",
    "    median(views_per_user) as views_per_user,\n",
    "    median(likes_per_user) as likes_per_user\n",
    "FROM daily_metrics\n",
    "GROUP BY is_target_day"
   ]
  },
  {
   "cell_type": "markdown",
   "id": "8a514a3a",
   "metadata": {
    "vscode": {
     "languageId": "sql"
    }
   },
   "source": [
    "**Metrics  Distribution**"
   ]
  },
  {
   "cell_type": "code",
   "execution_count": null,
   "id": "5e4a21e7",
   "metadata": {
    "vscode": {
     "languageId": "sql"
    }
   },
   "outputs": [],
   "source": [
    "WITH feed as (\n",
    "  SELECT \n",
    "    user_id\n",
    "    , toDate(time) as date\n",
    "    , post_id\n",
    "    , action\n",
    "  FROM \n",
    "    feed_actions\n",
    "  WHERE \n",
    "    date <= '2025-08-15'\n",
    "    and source = 'ads'\n",
    "    and toDayOfWeek(date) = 5    \n",
    ")\n",
    ", first_activity AS (\n",
    "    SELECT \n",
    "        user_id, \n",
    "        min(toDate(time)) as first_date\n",
    "    FROM feed_actions\n",
    "    WHERE source = 'ads'\n",
    "      AND toDate(time) <= '2025-08-15'\n",
    "    GROUP BY user_id \n",
    ")\n",
    "SELECT \n",
    "    user_id,\n",
    "    toString(fa.first_date) as first_date,\n",
    "    uniq(f.post_id) as posts,\n",
    "    countIf(f.action = 'view') as views,\n",
    "    countIf(f.action = 'like') as likes,\n",
    "    likes / nullIf(views, 0) as ctr\n",
    "FROM\n",
    "  feed f\n",
    "  INNER JOIN first_activity fa ON f.user_id = fa.user_id \n",
    "                            AND f.date = fa.first_date\n",
    "GROUP BY fa.first_date, f.user_id"
   ]
  },
  {
   "cell_type": "markdown",
   "id": "e4e02dff",
   "metadata": {
    "vscode": {
     "languageId": "sql"
    }
   },
   "source": [
    "#### 3.2.1.4 Retention Analysis"
   ]
  },
  {
   "cell_type": "markdown",
   "id": "9597f8a6",
   "metadata": {
    "vscode": {
     "languageId": "sql"
    }
   },
   "source": [
    "**Retention Heatmap**"
   ]
  },
  {
   "cell_type": "code",
   "execution_count": null,
   "id": "643bf5e1",
   "metadata": {
    "vscode": {
     "languageId": "sql"
    }
   },
   "outputs": [],
   "source": [
    "WITH first_activity AS (\n",
    "    SELECT \n",
    "        user_id, \n",
    "        min(toDate(time)) as first_date\n",
    "    FROM feed_actions\n",
    "    WHERE \n",
    "      source = 'ads'\n",
    "      and toDate(time) <= '2025-08-15'\n",
    "    GROUP BY user_id \n",
    "    HAVING toDayOfWeek(first_date) = 5 \n",
    ")\n",
    ", cohorts as (\n",
    "  SELECT \n",
    "    toDate(time) - first_date as lifetime\n",
    "    , toString(first_date) as cohort\n",
    "    , uniq(user_id) as users\n",
    "    , countIf(action = 'view') as views\n",
    "    , countIf(action = 'like') as likes\n",
    "    , likes / nullIf(countIf(action = 'view'), 0) as ctr\n",
    "  FROM \n",
    "    feed_actions f\n",
    "    JOIN first_activity as fa using(user_id)\n",
    "  GROUP BY \n",
    "    cohort\n",
    "    , lifetime\n",
    ")\n",
    "SELECT \n",
    "  c.cohort\n",
    "  , c.lifetime\n",
    "  , c.users\n",
    "  , c.ctr\n",
    "  , c.views / nullIf(c0.users, 0) as views_per_cohort_user\n",
    "  , c.likes / nullIf(c0.users, 0) as likes_per_cohort_user\n",
    "  , c.views / nullIf(c.users, 0) as views_per_user\n",
    "  , c.likes / nullIf(c.users, 0) as likes_per_user  \n",
    "  , c.users / nullIf(c0.users, 0) as retention\n",
    "FROM \n",
    "  cohorts c\n",
    "  JOIN cohorts c0 ON c.cohort = c0.cohort and c0.lifetime = 0\n",
    "WHERE \n",
    "  c.lifetime <= toDate(now()) - toDate('2025-08-15')"
   ]
  },
  {
   "cell_type": "markdown",
   "id": "19e5d258",
   "metadata": {
    "vscode": {
     "languageId": "sql"
    }
   },
   "source": [
    "**Retention Compare with Previous**"
   ]
  },
  {
   "cell_type": "code",
   "execution_count": null,
   "id": "7a53d927",
   "metadata": {
    "vscode": {
     "languageId": "sql"
    }
   },
   "outputs": [],
   "source": [
    "WITH first_activity AS (\n",
    "    SELECT \n",
    "        user_id, \n",
    "        min(toDate(time)) as first_date\n",
    "    FROM feed_actions\n",
    "    WHERE \n",
    "      source = 'ads'\n",
    "      and toDate(time) <= '2025-08-15'\n",
    "    GROUP BY user_id \n",
    "    HAVING toDayOfWeek(first_date) = 5 \n",
    ")\n",
    ", cohorts as (\n",
    "  SELECT \n",
    "    toDate(time) - first_date as lifetime\n",
    "    , toString(first_date) as cohort\n",
    "    , uniq(user_id) as users\n",
    "    , countIf(action = 'view') as views\n",
    "    , countIf(action = 'like') as likes\n",
    "    , likes / nullIf(countIf(action = 'view'), 0) as ctr\n",
    "  FROM \n",
    "    feed_actions f\n",
    "    JOIN first_activity as fa using(user_id)\n",
    "  GROUP BY \n",
    "    cohort\n",
    "    , lifetime\n",
    ")\n",
    ", cohort_metrics as (\n",
    "  SELECT \n",
    "    c.cohort\n",
    "    , c.lifetime\n",
    "    , c.cohort = '2025-08-15' as is_target_cohort\n",
    "    , c.users\n",
    "    , c.ctr\n",
    "    , c.views / nullIf(c0.users, 0) as views_per_cohort_user\n",
    "    , c.likes / nullIf(c0.users, 0) as likes_per_cohort_user\n",
    "    , c.views / nullIf(c.users, 0) as views_per_user\n",
    "    , c.likes / nullIf(c.users, 0) as likes_per_user  \n",
    "    , c.users / nullIf(c0.users, 0) as retention\n",
    "  FROM \n",
    "    cohorts c\n",
    "    JOIN cohorts c0 ON c.cohort = c0.cohort and c0.lifetime = 0\n",
    "  WHERE \n",
    "    c.lifetime <= toDate(now()) - toDate('2025-08-15')    \n",
    ")\n",
    "SELECT \n",
    "  if(is_target_cohort, 'Target', 'Prev Fridays') as cohort_type\n",
    "  , toDate('2000-01-01') + interval lifetime year as lifetime\n",
    "  , count() as cohorts_count\n",
    "  , median(users) as median_users\n",
    "  , median(ctr) as median_ctr\n",
    "  , median(views_per_user) as median_views_per_user\n",
    "  , median(likes_per_user) as median_likes_per_user\n",
    "  , median(views_per_cohort_user) as median_views_per_cohort_user\n",
    "  , median(likes_per_cohort_user) as median_likes_per_cohort_user  \n",
    "  , median(retention) as median_retention\n",
    "FROM \n",
    "  cohort_metrics\n",
    "GROUP BY \n",
    "  cohort_type\n",
    "  , lifetime"
   ]
  },
  {
   "cell_type": "markdown",
   "id": "6acc93ed",
   "metadata": {
    "vscode": {
     "languageId": "sql"
    }
   },
   "source": [
    "**Rolling Retention Compare with Previous**"
   ]
  },
  {
   "cell_type": "code",
   "execution_count": null,
   "id": "3b36e1e4",
   "metadata": {
    "vscode": {
     "languageId": "sql"
    }
   },
   "outputs": [],
   "source": [
    "WITH first_activity AS (\n",
    "    SELECT \n",
    "        user_id, \n",
    "        min(toDate(time)) as first_date\n",
    "    FROM feed_actions\n",
    "    WHERE \n",
    "      source = 'ads'\n",
    "      and toDate(time) <= '2025-08-15'\n",
    "    GROUP BY user_id \n",
    "    HAVING toDayOfWeek(first_date) = 5 \n",
    ")\n",
    ", cohorts as (\n",
    "  SELECT \n",
    "    f.user_id\n",
    "    , fa.first_date as cohort\n",
    "    , uniq(user_id) over (partition by cohort) as cohort_size\n",
    "    , max(toDate(time) - fa.first_date) over (partition by user_id) as max_lifetime\n",
    "  FROM \n",
    "    feed_actions f\n",
    "    JOIN first_activity fa USING(user_id)\n",
    "  WHERE \n",
    "    toDate(time) - fa.first_date <= 14\n",
    ")\n",
    ", cohort_metrics as (\n",
    "  SELECT \n",
    "    c.cohort\n",
    "    , al.lifetime\n",
    "    , c.cohort = '2025-08-15' as is_target_cohort\n",
    "    , any(c.cohort_size) as cohort_size\n",
    "    , uniqIf(c.user_id, al.lifetime <= c.max_lifetime) as rolling_users\n",
    "    , rolling_users / cohort_size as rolling_retention_14_days\n",
    "  FROM\n",
    "    cohorts c\n",
    "    CROSS JOIN \n",
    "      (SELECT arrayJoin(range(15)) as lifetime) al\n",
    "  GROUP BY \n",
    "    c.cohort\n",
    "    , al.lifetime\n",
    "  ORDER BY \n",
    "    c.cohort\n",
    "    , al.lifetime\n",
    ")\n",
    "SELECT \n",
    "  if(is_target_cohort, 'Target', 'Prev Fridays') as cohort_type\n",
    "  , toDate('2000-01-01') + interval lifetime year as lifetime\n",
    "  , count() as cohorts_count\n",
    "  , median(rolling_retention_14_days) as median_rolling_retention_14_days\n",
    "FROM \n",
    "  cohort_metrics\n",
    "GROUP BY \n",
    "  cohort_type\n",
    "  , lifetime"
   ]
  },
  {
   "cell_type": "markdown",
   "id": "2c75b69b",
   "metadata": {
    "vscode": {
     "languageId": "sql"
    }
   },
   "source": [
    "**Retention Compare with Previous by Gender**"
   ]
  },
  {
   "cell_type": "code",
   "execution_count": null,
   "id": "df082ed5",
   "metadata": {
    "vscode": {
     "languageId": "sql"
    }
   },
   "outputs": [],
   "source": [
    "WITH first_activity AS (\n",
    "    SELECT \n",
    "        user_id, \n",
    "        any(gender) as gender,\n",
    "        min(toDate(time)) as first_date\n",
    "    FROM feed_actions\n",
    "    WHERE \n",
    "      source = 'ads'\n",
    "      and toDate(time) <= '2025-08-15'\n",
    "    GROUP BY user_id \n",
    "    HAVING toDayOfWeek(first_date) = 5 \n",
    ")\n",
    ", cohorts as (\n",
    "  SELECT \n",
    "    toDate(time) - first_date as lifetime\n",
    "    , toString(first_date) as cohort\n",
    "    , multiIf(gender = 1, 'female', gender = 0, 'male', 'unknown') as gender  \n",
    "    , uniq(user_id) as users\n",
    "  FROM \n",
    "    feed_actions f\n",
    "    JOIN first_activity as fa using(user_id)\n",
    "  GROUP BY \n",
    "    cohort\n",
    "    , lifetime\n",
    "    , gender\n",
    ")\n",
    ", cohort_metrics as (\n",
    "  SELECT \n",
    "    c.cohort\n",
    "    , c.lifetime\n",
    "    , c.gender\n",
    "    , c.cohort = '2025-08-15' as is_target_cohort\n",
    "    , c.users\n",
    "    , c.users / nullIf(c0.users, 0) as retention\n",
    "  FROM \n",
    "    cohorts c\n",
    "    JOIN cohorts c0 ON c.cohort = c0.cohort \n",
    "    and c.gender = c0.gender\n",
    "    and c0.lifetime = 0\n",
    "  WHERE \n",
    "    lifetime <= toDate(now()) - toDate('2025-08-15')  \n",
    ")\n",
    "SELECT \n",
    "  if(is_target_cohort, 'Target', 'Prev Fridays') as cohort_type\n",
    "  , toDate('2000-01-01') + interval lifetime year as lifetime\n",
    "  , gender\n",
    "  , count() as cohorts_count\n",
    "  , median(retention) as median_retention\n",
    "FROM \n",
    "  cohort_metrics\n",
    "GROUP BY \n",
    "  cohort_type\n",
    "  , lifetime\n",
    "  , gender"
   ]
  },
  {
   "cell_type": "markdown",
   "id": "871165cd",
   "metadata": {
    "vscode": {
     "languageId": "sql"
    }
   },
   "source": [
    "**Retention Compare with Previous by OS**"
   ]
  },
  {
   "cell_type": "code",
   "execution_count": null,
   "id": "4683b851",
   "metadata": {
    "vscode": {
     "languageId": "sql"
    }
   },
   "outputs": [],
   "source": [
    "WITH first_activity AS (\n",
    "    SELECT \n",
    "        user_id, \n",
    "        any(os) as os,\n",
    "        min(toDate(time)) as first_date\n",
    "    FROM feed_actions\n",
    "    WHERE \n",
    "      source = 'ads'\n",
    "      and toDate(time) <= '2025-08-15'\n",
    "    GROUP BY user_id \n",
    "    HAVING toDayOfWeek(first_date) = 5 \n",
    ")\n",
    ", cohorts as (\n",
    "  SELECT \n",
    "    toDate(time) - first_date as lifetime\n",
    "    , toString(first_date) as cohort\n",
    "    , os\n",
    "    , uniq(user_id) as users\n",
    "  FROM \n",
    "    feed_actions f\n",
    "    JOIN first_activity as fa using(user_id)\n",
    "  GROUP BY \n",
    "    cohort\n",
    "    , lifetime\n",
    "    , os\n",
    ")\n",
    ", cohort_metrics as (\n",
    "  SELECT \n",
    "    c.cohort\n",
    "    , c.lifetime\n",
    "    , c.os\n",
    "    , c.cohort = '2025-08-15' as is_target_cohort\n",
    "    , c.users\n",
    "    , c.users / nullIf(c0.users, 0) as retention\n",
    "  FROM \n",
    "    cohorts c\n",
    "    JOIN cohorts c0 ON c.cohort = c0.cohort \n",
    "      and c.os = c0.os\n",
    "      and c0.lifetime = 0\n",
    "  WHERE \n",
    "    c.lifetime <= toDate(now()) - toDate('2025-08-15')    \n",
    ")\n",
    "SELECT \n",
    "  if(is_target_cohort, 'Target', 'Prev Fridays') as cohort_type\n",
    "  , toDate('2000-01-01') + interval lifetime year as lifetime\n",
    "  , os\n",
    "  , count() as cohorts_count\n",
    "  , median(retention) as median_retention\n",
    "FROM \n",
    "  cohort_metrics\n",
    "GROUP BY \n",
    "  cohort_type\n",
    "  , lifetime\n",
    "  , os"
   ]
  },
  {
   "cell_type": "markdown",
   "id": "05692225",
   "metadata": {
    "vscode": {
     "languageId": "sql"
    }
   },
   "source": [
    "**Retention Compare with Previous by Top Countries**"
   ]
  },
  {
   "cell_type": "code",
   "execution_count": null,
   "id": "db98fd31",
   "metadata": {
    "vscode": {
     "languageId": "sql"
    }
   },
   "outputs": [],
   "source": [
    "WITH top_countries as(\n",
    "  SELECT \n",
    "    country \n",
    "  FROM \n",
    "    feed_actions\n",
    "  GROUP BY \n",
    "    country\n",
    "  ORDER BY \n",
    "    uniq(user_id) DESC\n",
    "  LIMIT 3\n",
    ")\n",
    ", first_activity AS (\n",
    "    SELECT \n",
    "        user_id, \n",
    "        any(country) as country,\n",
    "        min(toDate(time)) as first_date\n",
    "    FROM feed_actions\n",
    "    WHERE \n",
    "      source = 'ads'\n",
    "      and toDate(time) <= '2025-08-15'\n",
    "    GROUP BY user_id \n",
    "    HAVING \n",
    "      toDayOfWeek(first_date) = 5 \n",
    "      and country in (select * from top_countries)\n",
    ")\n",
    ", cohorts as (\n",
    "  SELECT \n",
    "    toDate(time) - first_date as lifetime\n",
    "    , toString(first_date) as cohort\n",
    "    , country\n",
    "    , uniq(user_id) as users\n",
    "  FROM \n",
    "    feed_actions f\n",
    "    JOIN first_activity as fa using(user_id)\n",
    "  GROUP BY \n",
    "    cohort\n",
    "    , lifetime\n",
    "    , country\n",
    ")\n",
    ", cohort_metrics as (\n",
    "  SELECT \n",
    "    c.cohort\n",
    "    , c.lifetime\n",
    "    , c.country\n",
    "    , c.cohort = '2025-08-15' as is_target_cohort\n",
    "    , c.users\n",
    "    , c.users / nullIf(c0.users, 0) as retention\n",
    "  FROM \n",
    "    cohorts c\n",
    "    JOIN cohorts c0 ON c.cohort = c0.cohort \n",
    "      and c.country = c0.country\n",
    "      and c0.lifetime = 0\n",
    "  WHERE \n",
    "    c.lifetime <= toDate(now()) - toDate('2025-08-15')    \n",
    ")\n",
    "SELECT \n",
    "  if(is_target_cohort, 'Target', 'Prev Fridays') as cohort_type\n",
    "  , toDate('2000-01-01') + interval lifetime year as lifetime\n",
    "  , country\n",
    "  , count() as cohorts_count\n",
    "  , median(retention) as median_retention\n",
    "FROM \n",
    "  cohort_metrics\n",
    "GROUP BY \n",
    "  cohort_type\n",
    "  , lifetime\n",
    "  , country"
   ]
  },
  {
   "cell_type": "markdown",
   "id": "ac4449a4",
   "metadata": {
    "vscode": {
     "languageId": "sql"
    }
   },
   "source": [
    "**Retention Compare with Previous by Top Cities**"
   ]
  },
  {
   "cell_type": "code",
   "execution_count": null,
   "id": "88d92475",
   "metadata": {
    "vscode": {
     "languageId": "sql"
    }
   },
   "outputs": [],
   "source": [
    "WITH top_cities as(\n",
    "  SELECT \n",
    "    city \n",
    "  FROM \n",
    "    feed_actions\n",
    "  GROUP BY \n",
    "    city\n",
    "  ORDER BY \n",
    "    uniq(user_id) DESC\n",
    "  LIMIT 3\n",
    ")\n",
    ", first_activity AS (\n",
    "    SELECT \n",
    "        user_id, \n",
    "        any(city) as city,\n",
    "        min(toDate(time)) as first_date\n",
    "    FROM feed_actions\n",
    "    WHERE \n",
    "      source = 'ads'\n",
    "      and toDate(time) <= '2025-08-15'\n",
    "    GROUP BY user_id \n",
    "    HAVING \n",
    "      toDayOfWeek(first_date) = 5 \n",
    "      and city in (select * from top_cities)\n",
    ")\n",
    ", cohorts as (\n",
    "  SELECT \n",
    "    toDate(time) - first_date as lifetime\n",
    "    , toString(first_date) as cohort\n",
    "    , city\n",
    "    , uniq(user_id) as users\n",
    "  FROM \n",
    "    feed_actions f\n",
    "    JOIN first_activity as fa using(user_id)\n",
    "  GROUP BY \n",
    "    cohort\n",
    "    , lifetime\n",
    "    , city\n",
    ")\n",
    ", cohort_metrics as (\n",
    "  SELECT \n",
    "    c.cohort\n",
    "    , c.lifetime\n",
    "    , c.city\n",
    "    , c.cohort = '2025-08-15' as is_target_cohort\n",
    "    , c.users\n",
    "    , c.users / nullIf(c0.users, 0) as retention\n",
    "  FROM \n",
    "    cohorts c\n",
    "    JOIN cohorts c0 ON c.cohort = c0.cohort \n",
    "      and c.city = c0.city\n",
    "      and c0.lifetime = 0\n",
    "  WHERE \n",
    "    c.lifetime <= toDate(now()) - toDate('2025-08-15')    \n",
    ")\n",
    "SELECT \n",
    "  if(is_target_cohort, 'Target', 'Prev Fridays') as cohort_type\n",
    "  , toDate('2000-01-01') + interval lifetime year as lifetime\n",
    "  , city\n",
    "  , count() as cohorts_count\n",
    "  , median(retention) as median_retention\n",
    "FROM \n",
    "  cohort_metrics\n",
    "GROUP BY \n",
    "  cohort_type\n",
    "  , lifetime\n",
    "  , city"
   ]
  },
  {
   "cell_type": "markdown",
   "id": "0f6ef63d",
   "metadata": {
    "vscode": {
     "languageId": "sql"
    }
   },
   "source": [
    "#### 3.2.1.5 Cohort Analysis of Other Metrics"
   ]
  },
  {
   "cell_type": "markdown",
   "id": "31ddaedc",
   "metadata": {
    "vscode": {
     "languageId": "sql"
    }
   },
   "source": [
    "**Metrics Compare with Previous**"
   ]
  },
  {
   "cell_type": "code",
   "execution_count": null,
   "id": "6f87bbc7",
   "metadata": {
    "vscode": {
     "languageId": "sql"
    }
   },
   "outputs": [],
   "source": [
    "WITH first_activity AS (\n",
    "    SELECT \n",
    "        user_id, \n",
    "        min(toDate(time)) as first_date\n",
    "    FROM feed_actions\n",
    "    WHERE \n",
    "      source = 'ads'\n",
    "      and toDate(time) <= '2025-08-15'\n",
    "    GROUP BY user_id \n",
    "    HAVING toDayOfWeek(first_date) = 5 \n",
    ")\n",
    ", cohorts as (\n",
    "  SELECT \n",
    "    toDate(time) - first_date as lifetime\n",
    "    , toString(first_date) as cohort\n",
    "    , uniq(user_id) as users\n",
    "    , countIf(action = 'view') as views\n",
    "    , countIf(action = 'like') as likes\n",
    "    , likes / nullIf(countIf(action = 'view'), 0) as ctr\n",
    "  FROM \n",
    "    feed_actions f\n",
    "    JOIN first_activity as fa using(user_id)\n",
    "  GROUP BY \n",
    "    cohort\n",
    "    , lifetime\n",
    ")\n",
    ", cohort_metrics as (\n",
    "  SELECT \n",
    "    c.cohort\n",
    "    , c.lifetime\n",
    "    , c.cohort = '2025-08-15' as is_target_cohort\n",
    "    , c.users\n",
    "    , c.ctr\n",
    "    , c.views / nullIf(c0.users, 0) as views_per_cohort_user\n",
    "    , c.likes / nullIf(c0.users, 0) as likes_per_cohort_user\n",
    "    , c.views / nullIf(c.users, 0) as views_per_user\n",
    "    , c.likes / nullIf(c.users, 0) as likes_per_user  \n",
    "    , c.users / nullIf(c0.users, 0) as retention\n",
    "  FROM \n",
    "    cohorts c\n",
    "    JOIN cohorts c0 ON c.cohort = c0.cohort and c0.lifetime = 0\n",
    "  WHERE \n",
    "    c.lifetime <= toDate(now()) - toDate('2025-08-15')    \n",
    ")\n",
    "SELECT \n",
    "  if(is_target_cohort, 'Target', 'Prev Fridays') as cohort_type\n",
    "  , toDate('2000-01-01') + interval lifetime year as lifetime\n",
    "  , count() as cohorts_count\n",
    "  , median(users) as median_users\n",
    "  , median(ctr) as median_ctr\n",
    "  , median(views_per_user) as median_views_per_user\n",
    "  , median(likes_per_user) as median_likes_per_user\n",
    "  , median(views_per_cohort_user) as median_views_per_cohort_user\n",
    "  , median(likes_per_cohort_user) as median_likes_per_cohort_user  \n",
    "  , median(retention) as median_retention\n",
    "FROM \n",
    "  cohort_metrics\n",
    "GROUP BY \n",
    "  cohort_type\n",
    "  , lifetime"
   ]
  },
  {
   "cell_type": "markdown",
   "id": "261219ba",
   "metadata": {
    "vscode": {
     "languageId": "sql"
    }
   },
   "source": [
    "**Metrics Heatmap**"
   ]
  },
  {
   "cell_type": "code",
   "execution_count": null,
   "id": "3a4e1662",
   "metadata": {
    "vscode": {
     "languageId": "sql"
    }
   },
   "outputs": [],
   "source": [
    "WITH first_activity AS (\n",
    "    SELECT \n",
    "        user_id, \n",
    "        min(toDate(time)) as first_date\n",
    "    FROM feed_actions\n",
    "    WHERE \n",
    "      source = 'ads'\n",
    "      and toDate(time) <= '2025-08-15'\n",
    "    GROUP BY user_id \n",
    "    HAVING toDayOfWeek(first_date) = 5 \n",
    ")\n",
    ", cohorts as (\n",
    "  SELECT \n",
    "    toDate(time) - first_date as lifetime\n",
    "    , toString(first_date) as cohort\n",
    "    , uniq(user_id) as users\n",
    "    , countIf(action = 'view') as views\n",
    "    , countIf(action = 'like') as likes\n",
    "    , likes / nullIf(countIf(action = 'view'), 0) as ctr\n",
    "  FROM \n",
    "    feed_actions f\n",
    "    JOIN first_activity as fa using(user_id)\n",
    "  GROUP BY \n",
    "    cohort\n",
    "    , lifetime\n",
    ")\n",
    "SELECT \n",
    "  c.cohort\n",
    "  , c.lifetime\n",
    "  , c.users\n",
    "  , c.ctr\n",
    "  , c.views / nullIf(c0.users, 0) as views_per_cohort_user\n",
    "  , c.likes / nullIf(c0.users, 0) as likes_per_cohort_user\n",
    "  , c.views / nullIf(c.users, 0) as views_per_user\n",
    "  , c.likes / nullIf(c.users, 0) as likes_per_user  \n",
    "  , c.users / nullIf(c0.users, 0) as retention\n",
    "FROM \n",
    "  cohorts c\n",
    "  JOIN cohorts c0 ON c.cohort = c0.cohort and c0.lifetime = 0\n",
    "WHERE \n",
    "  c.lifetime <= toDate(now()) - toDate('2025-08-15')"
   ]
  },
  {
   "cell_type": "markdown",
   "id": "6508f865",
   "metadata": {
    "vscode": {
     "languageId": "sql"
    }
   },
   "source": [
    "### 3.2.2 Dashboard Implementation"
   ]
  },
  {
   "cell_type": "markdown",
   "id": "82e9f5ea",
   "metadata": {
    "vscode": {
     "languageId": "sql"
    }
   },
   "source": [
    "Based on the written queries, a dashboard report was created in Superset."
   ]
  },
  {
   "cell_type": "markdown",
   "id": "db375846",
   "metadata": {
    "vscode": {
     "languageId": "sql"
    }
   },
   "source": [
    "Screenshots of the dashboard are provided below."
   ]
  },
  {
   "cell_type": "markdown",
   "id": "dc2cbe42",
   "metadata": {
    "vscode": {
     "languageId": "sql"
    }
   },
   "source": [
    "<img src=\"marketing_company_part_1.png\" alt=\"\">\n",
    "<img src=\"marketing_company_part_2.png\" alt=\"\">\n",
    "<img src=\"marketing_company_part_3.png\" alt=\"\">\n",
    "<img src=\"marketing_company_part_4.png\" alt=\"\">\n",
    "<img src=\"marketing_company_part_5.png\" alt=\"\">\n",
    "<img src=\"marketing_company_part_6.png\" alt=\"\">\n",
    "<img src=\"marketing_company_part_7.png\" alt=\"\">\n",
    "<img src=\"marketing_company_part_8.png\" alt=\"\">\n",
    "<img src=\"marketing_company_part_9.png\" alt=\"\">\n",
    "<img src=\"marketing_company_part_10.png\" alt=\"\">"
   ]
  },
  {
   "cell_type": "markdown",
   "id": "0a021f29",
   "metadata": {
    "vscode": {
     "languageId": "plaintext"
    }
   },
   "source": [
    "## 3.3 User Drop-off Analysis"
   ]
  },
  {
   "cell_type": "markdown",
   "id": "e088e6d8",
   "metadata": {},
   "source": [
    "### 3.3.1 SQL Queries"
   ]
  },
  {
   "cell_type": "markdown",
   "id": "7949ce33",
   "metadata": {},
   "source": [
    "We will write SQL queries to the product database to build the charts."
   ]
  },
  {
   "cell_type": "markdown",
   "id": "1c57af58",
   "metadata": {
    "vscode": {
     "languageId": "sql"
    }
   },
   "source": [
    "**DAU**"
   ]
  },
  {
   "cell_type": "code",
   "execution_count": null,
   "id": "0545382f",
   "metadata": {
    "vscode": {
     "languageId": "sql"
    }
   },
   "outputs": [],
   "source": [
    "SELECT \n",
    "  user_id \n",
    "  , toDate(time) as date\n",
    "  , 'Feed' as service \n",
    "FROM \n",
    "  feed_actions\n",
    "GROUP BY \n",
    "  user_id\n",
    "  , date\n",
    "UNION ALL\n",
    "SELECT \n",
    "  user_id \n",
    "  , toDate(time) as date\n",
    "  , 'Messenger' as service\n",
    "FROM \n",
    "  message_actions\n",
    "GROUP BY \n",
    "  user_id\n",
    "  , date"
   ]
  },
  {
   "cell_type": "markdown",
   "id": "d84c2142",
   "metadata": {
    "vscode": {
     "languageId": "sql"
    }
   },
   "source": [
    "**Users by Hour**"
   ]
  },
  {
   "cell_type": "code",
   "execution_count": null,
   "id": "a849e349",
   "metadata": {
    "vscode": {
     "languageId": "sql"
    }
   },
   "outputs": [],
   "source": [
    "SELECT \n",
    "  multiIf(\n",
    "      f.user_id != 0 and m.user_id != 0, 'both'\n",
    "      , f.user_id != 0 and m.user_id = 0, 'feed'\n",
    "      , f.user_id = 0 and m.user_id != 0, 'messenger'\n",
    "      , 'unknown'\n",
    "  ) as segment\n",
    "  , if(f.user_id != 0, f.date, m.date) as date \n",
    "  , if(f.user_id != 0, f.user_id, m.user_id) as user_id \n",
    "  , if(f.user_id != 0, f.gender, m.gender) as gender_num \n",
    "  , if(f.user_id != 0, f.age, m.age) as age \n",
    "  , if(f.user_id != 0, f.source, m.source) as source \n",
    "  , if(f.user_id != 0, f.os, m.os) as os \n",
    "  , if(f.user_id != 0, f.country, m.country) as country \n",
    "  , if(f.user_id != 0, f.city, m.city) as city \n",
    "  , multiIf(gender_num = 1, 'female', gender_num = 0, 'male', 'unknown') as gender \n",
    "  , multiIf(age < 25, ' <25' , age between 25 and 40, '25-40' , age between 41 and 55, '41-55' , age >= 55, '55+' , 'unknown') as age_group \n",
    "  , f.posts\n",
    "  , f.views\n",
    "  , f.likes\n",
    "  , f.ctr\n",
    "  , m.messages\n",
    "  , m.receivers\n",
    "  FROM (\n",
    "    SELECT\n",
    "      user_id\n",
    "      , toStartOfHour(time) as date\n",
    "      , uniq(post_id) as posts\n",
    "      , countIf(action = 'view') as views\n",
    "      , countIf(action = 'like') as likes\n",
    "      , likes / views as ctr\n",
    "      , any(source) as source\n",
    "      , any(gender) as gender\n",
    "      , any(age) as age\n",
    "      , any(os) as os\n",
    "      , any(country) as country\n",
    "      , any(city) as city\n",
    "    FROM \n",
    "      feed_actions \n",
    "    WHERE \n",
    "      toDate(time) between '2025-08-21' and '2025-08-27'\n",
    "    GROUP BY \n",
    "      user_id\n",
    "      , date\n",
    "    ) f\n",
    "    FULL JOIN (\n",
    "    SELECT\n",
    "      user_id\n",
    "      , toStartOfHour(time) as date\n",
    "      , count(receiver_id) as messages\n",
    "      , uniq(receiver_id) as receivers\n",
    "      , any(source) as source\n",
    "      , any(gender) as gender\n",
    "      , any(age) as age\n",
    "      , any(os) as os\n",
    "      , any(country) as country\n",
    "      , any(city) as city\n",
    "    FROM \n",
    "      message_actions  \n",
    "    WHERE \n",
    "      toDate(time) between '2025-08-21' and '2025-08-27'\n",
    "    GROUP BY \n",
    "      user_id\n",
    "      , date      \n",
    "    ) m ON f.user_id = m.user_id and f.date = m.date"
   ]
  },
  {
   "cell_type": "markdown",
   "id": "ad727cbc",
   "metadata": {
    "vscode": {
     "languageId": "sql"
    }
   },
   "source": [
    "**Users by Dimensions**"
   ]
  },
  {
   "cell_type": "code",
   "execution_count": null,
   "id": "897f2c76",
   "metadata": {
    "vscode": {
     "languageId": "sql"
    }
   },
   "outputs": [],
   "source": [
    "SELECT \n",
    "  multiIf(\n",
    "      f.user_id != 0 and m.user_id != 0, 'both'\n",
    "      , f.user_id != 0 and m.user_id = 0, 'feed'\n",
    "      , f.user_id = 0 and m.user_id != 0, 'messenger'\n",
    "      , 'unknown'\n",
    "  ) as segment\n",
    "  , if(f.user_id != 0, f.date, m.date) as date \n",
    "  , if(f.user_id != 0, f.user_id, m.user_id) as user_id \n",
    "  , if(f.user_id != 0, f.gender, m.gender) as gender_num \n",
    "  , if(f.user_id != 0, f.age, m.age) as age \n",
    "  , if(f.user_id != 0, f.source, m.source) as source \n",
    "  , if(f.user_id != 0, f.os, m.os) as os \n",
    "  , if(f.user_id != 0, f.country, m.country) as country \n",
    "  , if(f.user_id != 0, f.city, m.city) as city \n",
    "  , multiIf(gender_num = 1, 'female', gender_num = 0, 'male', 'unknown') as gender \n",
    "  , multiIf(age < 25, ' <25' , age between 25 and 40, '25-40' , age between 41 and 55, '41-55' , age >= 55, '55+' , 'unknown') as age_group \n",
    "  , f.posts\n",
    "  , f.views\n",
    "  , f.likes\n",
    "  , f.ctr\n",
    "  , m.messages\n",
    "  , m.receivers\n",
    "  FROM (\n",
    "    SELECT\n",
    "      user_id\n",
    "      , toDate(time) as date\n",
    "      , uniq(post_id) as posts\n",
    "      , countIf(action = 'view') as views\n",
    "      , countIf(action = 'like') as likes\n",
    "      , likes / views as ctr\n",
    "      , any(source) as source\n",
    "      , any(gender) as gender\n",
    "      , any(age) as age\n",
    "      , any(os) as os\n",
    "      , any(country) as country\n",
    "      , any(city) as city\n",
    "    FROM \n",
    "      feed_actions \n",
    "    WHERE date >= toDate('2025-08-01')\n",
    "      AND date < toDate('2025-09-01')\n",
    "    GROUP BY \n",
    "      user_id\n",
    "      , date\n",
    "    ) f\n",
    "    FULL JOIN (\n",
    "    SELECT\n",
    "      user_id\n",
    "      , toDate(time) as date\n",
    "      , count(receiver_id) as messages\n",
    "      , uniq(receiver_id) as receivers\n",
    "      , any(source) as source\n",
    "      , any(gender) as gender\n",
    "      , any(age) as age\n",
    "      , any(os) as os\n",
    "      , any(country) as country\n",
    "      , any(city) as city\n",
    "    FROM \n",
    "      message_actions  \n",
    "    WHERE date >= toDate('2025-08-01')\n",
    "      AND date < toDate('2025-09-01')\n",
    "    GROUP BY \n",
    "      user_id\n",
    "      , date      \n",
    "    ) m ON f.user_id = m.user_id and f.date = m.date"
   ]
  },
  {
   "cell_type": "markdown",
   "id": "e1bebed7",
   "metadata": {},
   "source": [
    "### 3.3.2 Dashboard Implementation"
   ]
  },
  {
   "cell_type": "markdown",
   "id": "330fd4a0",
   "metadata": {},
   "source": [
    "Based on the written queries, a dashboard report was created in Superset."
   ]
  },
  {
   "cell_type": "markdown",
   "id": "a29b3682",
   "metadata": {},
   "source": [
    "Screenshots of the dashboard are provided below."
   ]
  },
  {
   "cell_type": "markdown",
   "id": "feec39e1",
   "metadata": {
    "vscode": {
     "languageId": "plaintext"
    }
   },
   "source": [
    "<img src=\"user_dropoff_part_1.png\" alt=\"\">\n",
    "<img src=\"user_dropoff_part_2.png\" alt=\"\">\n",
    "<img src=\"user_dropoff_part_3.png\" alt=\"\">\n",
    "<img src=\"user_dropoff_part_4.png\" alt=\"\">\n",
    "<img src=\"user_dropoff_part_5.png\" alt=\"\">"
   ]
  },
  {
   "cell_type": "markdown",
   "id": "8ca62250",
   "metadata": {
    "vscode": {
     "languageId": "plaintext"
    }
   },
   "source": [
    "## 3.4 Users Decomposition"
   ]
  },
  {
   "cell_type": "markdown",
   "id": "744fe41c",
   "metadata": {},
   "source": [
    "### 3.4.1 SQL Queries"
   ]
  },
  {
   "cell_type": "markdown",
   "id": "0b5a1335",
   "metadata": {},
   "source": [
    "We will write SQL queries to the product database to build the charts."
   ]
  },
  {
   "cell_type": "markdown",
   "id": "c8d8c2e1",
   "metadata": {
    "vscode": {
     "languageId": "sql"
    }
   },
   "source": [
    "**Feed Users Decomposition**"
   ]
  },
  {
   "cell_type": "markdown",
   "id": "13d784a4",
   "metadata": {
    "vscode": {
     "languageId": "sql"
    }
   },
   "source": [
    "Simple method: user is \"new\" in any week where they have their first activity in our dataset"
   ]
  },
  {
   "cell_type": "code",
   "execution_count": null,
   "id": "039f0fe3",
   "metadata": {
    "vscode": {
     "languageId": "sql"
    }
   },
   "outputs": [],
   "source": [
    "WITH user_stats as (\n",
    "  SELECT \n",
    "    user_id\n",
    "    , groupUniqArray(toMonday(time)) as user_weeks\n",
    "    , arrayJoin(user_weeks) as week_start\n",
    "  FROM \n",
    "    feed_actions  \n",
    "  GROUP BY \n",
    "    user_id\n",
    ")\n",
    ", retained_and_new_users as (\n",
    "  SELECT \n",
    "    week_start as current_week\n",
    "    , uniqExactIf(user_id, has(user_weeks, addWeeks(week_start, -1))) as retained_users\n",
    "    , uniqExact(user_id) - retained_users as new_users\n",
    "  FROM \n",
    "    user_stats\n",
    "  GROUP BY \n",
    "    week_start\n",
    ")\n",
    ", gone_users as (\n",
    "  SELECT \n",
    "    addWeeks(week_start, 1) as current_week\n",
    "    , -uniqExactIf(user_id, NOT has(user_weeks, current_week)) as gone_users\n",
    "  FROM \n",
    "    user_stats   \n",
    "  GROUP BY \n",
    "    week_start    \n",
    ")\n",
    "SELECT \n",
    "  rn.current_week\n",
    "  , rn.new_users\n",
    "  , rn.retained_users\n",
    "  , g.gone_users\n",
    "FROM \n",
    "  retained_and_new_users rn\n",
    "  LEFT JOIN gone_users g ON rn.current_week = g.current_week"
   ]
  },
  {
   "cell_type": "markdown",
   "id": "c0ade8d5",
   "metadata": {
    "vscode": {
     "languageId": "sql"
    }
   },
   "source": [
    "Advanced method: user is only \"new\" in their absolute first week across entire history"
   ]
  },
  {
   "cell_type": "code",
   "execution_count": null,
   "id": "4fd173a8",
   "metadata": {
    "vscode": {
     "languageId": "sql"
    }
   },
   "outputs": [],
   "source": [
    "WITH feed_weekly as (\n",
    "  SELECT \n",
    "    user_id\n",
    "    , toMonday(time) as week_start\n",
    "  FROM \n",
    "    feed_actions\n",
    "  GROUP BY \n",
    "    user_id\n",
    "    , week_start\n",
    ")\n",
    ", user_first_week AS (\n",
    "    SELECT \n",
    "      user_id\n",
    "      , min(week_start) as first_week\n",
    "    FROM \n",
    "      feed_weekly\n",
    "    GROUP BY \n",
    "      user_id\n",
    ")\n",
    ", week_stats as (\n",
    "  SELECT  \n",
    "    fw.week_start\n",
    "    , uniq(fw.user_id) as active_users\n",
    "    , uniqIf(fw.user_id, fw.week_start = ufw.first_week) as new_users\n",
    "  FROM \n",
    "    feed_weekly fw\n",
    "    JOIN user_first_week ufw USING(user_id)\n",
    "  GROUP BY \n",
    "    fw.week_start\n",
    ")\n",
    ", week_stats_cum as (\n",
    "  SELECT \n",
    "    week_start\n",
    "    , new_users\n",
    "    , sum(new_users) OVER (ORDER BY week_start ROWS BETWEEN UNBOUNDED PRECEDING AND 1 PRECEDING) as new_users_cum_before\n",
    "    , active_users - new_users as retained_users\n",
    "  FROM \n",
    "    week_stats\n",
    ")\n",
    "SELECT \n",
    "  week_start\n",
    "  , new_users\n",
    "  , retained_users\n",
    "  , -1 * (new_users_cum_before - retained_users) as gone_users\n",
    "FROM \n",
    "  week_stats_cum  "
   ]
  },
  {
   "cell_type": "markdown",
   "id": "d2354bb7",
   "metadata": {
    "vscode": {
     "languageId": "sql"
    }
   },
   "source": [
    "**Messenger Users Decomposition**"
   ]
  },
  {
   "cell_type": "code",
   "execution_count": null,
   "id": "721b6437",
   "metadata": {
    "vscode": {
     "languageId": "sql"
    }
   },
   "outputs": [],
   "source": [
    "WITH mess_weekly as (\n",
    "  SELECT \n",
    "    user_id\n",
    "    , toMonday(time) as week_start\n",
    "  FROM \n",
    "    message_actions \n",
    "  GROUP BY \n",
    "    user_id\n",
    "    , week_start\n",
    ")\n",
    ", user_first_week AS (\n",
    "    SELECT \n",
    "      user_id\n",
    "      , min(week_start) as first_week\n",
    "    FROM \n",
    "      mess_weekly\n",
    "    GROUP BY \n",
    "      user_id\n",
    ")\n",
    ", week_stats as (\n",
    "  SELECT  \n",
    "    fw.week_start\n",
    "    , uniq(fw.user_id) as active_users\n",
    "    , uniqIf(fw.user_id, fw.week_start = ufw.first_week) as new_users\n",
    "  FROM \n",
    "    mess_weekly fw\n",
    "    JOIN user_first_week ufw USING(user_id)\n",
    "  GROUP BY \n",
    "    fw.week_start\n",
    ")\n",
    ", week_stats_cum as (\n",
    "  SELECT \n",
    "    week_start\n",
    "    , new_users\n",
    "    , sum(new_users) OVER (ORDER BY week_start ROWS BETWEEN UNBOUNDED PRECEDING AND 1 PRECEDING) as new_users_cum_before\n",
    "    , active_users - new_users as retained_users\n",
    "  FROM \n",
    "    week_stats\n",
    ")\n",
    "SELECT \n",
    "  week_start\n",
    "  , new_users\n",
    "  , retained_users\n",
    "  , -1 * (new_users_cum_before - retained_users) as gone_users\n",
    "FROM \n",
    "  week_stats_cum"
   ]
  },
  {
   "cell_type": "markdown",
   "id": "98bdaf83",
   "metadata": {
    "vscode": {
     "languageId": "sql"
    }
   },
   "source": [
    "**Both Services Users Decomposition**"
   ]
  },
  {
   "cell_type": "code",
   "execution_count": null,
   "id": "05d1a6b8",
   "metadata": {
    "vscode": {
     "languageId": "sql"
    }
   },
   "outputs": [],
   "source": [
    "WITH feed_weekly as (\n",
    "  SELECT \n",
    "    user_id\n",
    "    , toMonday(time) as week_start\n",
    "  FROM \n",
    "    feed_actions\n",
    "  GROUP BY \n",
    "    user_id\n",
    "    , week_start\n",
    ")\n",
    ", mess_weekly as (\n",
    "  SELECT \n",
    "    user_id\n",
    "    , toMonday(time) as week_start\n",
    "  FROM \n",
    "    message_actions \n",
    "  GROUP BY \n",
    "    user_id\n",
    "    , week_start\n",
    ")\n",
    ", both_weekly as (\n",
    "  SELECT \n",
    "    f.user_id\n",
    "    , f.week_start\n",
    "  FROM \n",
    "    feed_weekly f\n",
    "    JOIN mess_weekly m ON f.user_id = m.user_id and f.week_start = m.week_start\n",
    ")\n",
    ", user_first_week AS (\n",
    "    SELECT \n",
    "      user_id\n",
    "      , min(week_start) as first_week\n",
    "    FROM \n",
    "      both_weekly\n",
    "    GROUP BY \n",
    "      user_id\n",
    ")\n",
    ", week_stats as (\n",
    "  SELECT  \n",
    "    bw.week_start\n",
    "    , uniq(bw.user_id) as active_users\n",
    "    , uniqIf(bw.user_id, bw.week_start = ufw.first_week) as new_users\n",
    "  FROM \n",
    "    both_weekly bw\n",
    "    JOIN user_first_week ufw USING(user_id)\n",
    "  GROUP BY \n",
    "    bw.week_start\n",
    ")\n",
    ", week_stats_cum as (\n",
    "  SELECT \n",
    "    week_start\n",
    "    , new_users\n",
    "    , sum(new_users) OVER (ORDER BY week_start ROWS BETWEEN UNBOUNDED PRECEDING AND 1 PRECEDING) as new_users_cum_before\n",
    "    , active_users - new_users as retained_users\n",
    "  FROM \n",
    "    week_stats\n",
    ")\n",
    "SELECT \n",
    "  week_start\n",
    "  , new_users\n",
    "  , retained_users\n",
    "  , -1 * (new_users_cum_before - retained_users) as gone_users\n",
    "FROM \n",
    "  week_stats_cum  "
   ]
  },
  {
   "cell_type": "markdown",
   "id": "1732e8a8",
   "metadata": {
    "vscode": {
     "languageId": "sql"
    }
   },
   "source": [
    "**Only Feed Users Decomposition**"
   ]
  },
  {
   "cell_type": "code",
   "execution_count": null,
   "id": "6da128d7",
   "metadata": {
    "vscode": {
     "languageId": "sql"
    }
   },
   "outputs": [],
   "source": [
    "WITH feed_weekly as (\n",
    "  SELECT \n",
    "    user_id\n",
    "    , toMonday(time) as week_start\n",
    "  FROM \n",
    "    feed_actions\n",
    "  GROUP BY \n",
    "    user_id\n",
    "    , week_start\n",
    ")\n",
    ", mess_weekly as (\n",
    "  SELECT \n",
    "    user_id\n",
    "    , toMonday(time) as week_start\n",
    "  FROM \n",
    "    message_actions \n",
    "  GROUP BY \n",
    "    user_id\n",
    "    , week_start\n",
    ")\n",
    ", only_feed_weekly as (\n",
    "  SELECT \n",
    "    f.user_id\n",
    "    , f.week_start\n",
    "  FROM \n",
    "    feed_weekly f\n",
    "    ANTI JOIN mess_weekly m ON f.user_id = m.user_id and f.week_start = m.week_start\n",
    ")\n",
    ", user_first_week AS (\n",
    "    SELECT \n",
    "      user_id\n",
    "      , min(week_start) as first_week\n",
    "    FROM \n",
    "      only_feed_weekly\n",
    "    GROUP BY \n",
    "      user_id\n",
    ")\n",
    ", week_stats as (\n",
    "  SELECT  \n",
    "    fw.week_start\n",
    "    , uniq(fw.user_id) as active_users\n",
    "    , uniqIf(fw.user_id, fw.week_start = ufw.first_week) as new_users\n",
    "  FROM \n",
    "    only_feed_weekly fw\n",
    "    JOIN user_first_week ufw USING(user_id)\n",
    "  GROUP BY \n",
    "    fw.week_start\n",
    ")\n",
    ", week_stats_cum as (\n",
    "  SELECT \n",
    "    week_start\n",
    "    , new_users\n",
    "    , sum(new_users) OVER (ORDER BY week_start ROWS BETWEEN UNBOUNDED PRECEDING AND 1 PRECEDING) as new_users_cum_before\n",
    "    , active_users - new_users as retained_users\n",
    "  FROM \n",
    "    week_stats\n",
    ")\n",
    "SELECT \n",
    "  week_start\n",
    "  , new_users\n",
    "  , retained_users\n",
    "  , -1 * (new_users_cum_before - retained_users) as gone_users\n",
    "FROM \n",
    "  week_stats_cum  "
   ]
  },
  {
   "cell_type": "markdown",
   "id": "e583de9b",
   "metadata": {
    "vscode": {
     "languageId": "sql"
    }
   },
   "source": [
    "**Only Messenger Users Decomposition**"
   ]
  },
  {
   "cell_type": "code",
   "execution_count": null,
   "id": "912d9df7",
   "metadata": {
    "vscode": {
     "languageId": "sql"
    }
   },
   "outputs": [],
   "source": [
    "WITH feed_weekly as (\n",
    "  SELECT \n",
    "    user_id\n",
    "    , toMonday(time) as week_start\n",
    "  FROM \n",
    "    feed_actions\n",
    "  GROUP BY \n",
    "    user_id\n",
    "    , week_start\n",
    ")\n",
    ", mess_weekly as (\n",
    "  SELECT \n",
    "    user_id\n",
    "    , toMonday(time) as week_start\n",
    "  FROM \n",
    "    message_actions \n",
    "  GROUP BY \n",
    "    user_id\n",
    "    , week_start\n",
    ")\n",
    ", only_mess_weekly as (\n",
    "  SELECT \n",
    "    m.user_id\n",
    "    , m.week_start\n",
    "  FROM \n",
    "    mess_weekly m\n",
    "    ANTI JOIN feed_weekly f ON f.user_id = m.user_id and f.week_start = m.week_start\n",
    ")\n",
    ", user_first_week AS (\n",
    "    SELECT \n",
    "      user_id\n",
    "      , min(week_start) as first_week\n",
    "    FROM \n",
    "      only_mess_weekly\n",
    "    GROUP BY \n",
    "      user_id\n",
    ")\n",
    ", week_stats as (\n",
    "  SELECT  \n",
    "    omw.week_start\n",
    "    , uniq(omw.user_id) as active_users\n",
    "    , uniqIf(omw.user_id, omw.week_start = ufw.first_week) as new_users\n",
    "  FROM \n",
    "    only_mess_weekly omw\n",
    "    JOIN user_first_week ufw USING(user_id)\n",
    "  GROUP BY \n",
    "    omw.week_start\n",
    ")\n",
    ", week_stats_cum as (\n",
    "  SELECT \n",
    "    week_start\n",
    "    , new_users\n",
    "    , sum(new_users) OVER (ORDER BY week_start ROWS BETWEEN UNBOUNDED PRECEDING AND 1 PRECEDING) as new_users_cum_before\n",
    "    , active_users - new_users as retained_users\n",
    "  FROM \n",
    "    week_stats\n",
    ")\n",
    "SELECT \n",
    "  week_start\n",
    "  , new_users\n",
    "  , retained_users\n",
    "  , -1 * (new_users_cum_before - retained_users) as gone_users\n",
    "FROM \n",
    "  week_stats_cum  "
   ]
  },
  {
   "cell_type": "markdown",
   "id": "c0e1d54e",
   "metadata": {},
   "source": [
    "### 3.4.2 Dashboard Implementation"
   ]
  },
  {
   "cell_type": "markdown",
   "id": "44956fda",
   "metadata": {},
   "source": [
    "Based on the written queries, a dashboard report was created in Superset."
   ]
  },
  {
   "cell_type": "markdown",
   "id": "f52b3d67",
   "metadata": {},
   "source": [
    "Screenshots of the dashboard are provided below."
   ]
  },
  {
   "cell_type": "markdown",
   "id": "3673fcfa",
   "metadata": {},
   "source": [
    "<img src=\"user_decomposition_part_1.png\" alt=\"\">\n",
    "<img src=\"user_decomposition_part_2.png\" alt=\"\">"
   ]
  },
  {
   "cell_type": "markdown",
   "id": "669cb821",
   "metadata": {},
   "source": [
    "## 3.5 General Conclusion"
   ]
  },
  {
   "cell_type": "markdown",
   "id": "d270a799",
   "metadata": {
    "vscode": {
     "languageId": "plaintext"
    }
   },
   "source": [
    "**Implementation Summary:**\n",
    "\n",
    "- **Retention Analysis Completed:** Conducted comprehensive cohort analysis of advertising campaign users versus organic users\n",
    "- **User Segmentation Identified:** Segmented and analyzed users who experienced news feed access issues\n",
    "- **Root Cause Investigation:** Identified common characteristics and potential technical factors behind the audience drop\n",
    "- **User Lifecycle Tracking Implemented:** Built ClickHouse query and Superset visualization for monitoring New, Retained, and Churned user cohorts\n",
    "- **Data Products Delivered:** Created Superset dashboards for ongoing monitoring of retention patterns and user engagement issues\n",
    "- **Goal Achieved:** Provided data-driven insights that enabled marketing to optimize campaign strategies and engineering to address critical technical issues\n",
    "  \n",
    "**Main Conclusion:**\n",
    "\n",
    "- Advertising Campaign Analysis\n",
    "  - Campaign successfully attracted large volume of new users, significantly exceeding previous acquisition rates\n",
    "  - Initial engagement metrics showed no significant difference from organic users\n",
    "  - Critical Issue: Day-1 retention rate for campaign users was substantially lower than historical Friday cohorts\n",
    "\n",
    "- Audience Drop Investigation\n",
    "  - Significant drop in feed engagement occurred on August 24th\n",
    "  - Affected Areas: Moscow, St. Petersburg, Yekaterinburg, Novosibirsk showed concentrated impact\n",
    "  - Isolated Issue: Messenger functionality remained unaffected in these cities\n",
    "  \n",
    "**Key Recommendation:**  \n",
    "\n",
    "- Implement more targeted advertising based on analysis of existing active user profiles rather than broad audience targeting\n",
    "- Investigate technical infrastructure in affected regions and implement redundancy measures to prevent future service disruptions"
   ]
  }
 ],
 "metadata": {
  "language_info": {
   "name": "python"
  }
 },
 "nbformat": 4,
 "nbformat_minor": 5
}
